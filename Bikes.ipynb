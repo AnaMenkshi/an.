{
 "cells": [
  {
   "cell_type": "code",
   "execution_count": 1,
   "id": "e6cc68b4",
   "metadata": {},
   "outputs": [],
   "source": [
    "import pandas as pd\n",
    "import numpy as np"
   ]
  },
  {
   "cell_type": "code",
   "execution_count": 2,
   "id": "68fa6f58",
   "metadata": {},
   "outputs": [],
   "source": [
    "df = pd.read_csv(\"bycicle.csv\")"
   ]
  },
  {
   "cell_type": "code",
   "execution_count": 3,
   "id": "e1ddf4b6",
   "metadata": {},
   "outputs": [],
   "source": [
    "df = df.drop(columns=['Unnamed: 0'])"
   ]
  },
  {
   "cell_type": "code",
   "execution_count": 5,
   "id": "9b70b520",
   "metadata": {},
   "outputs": [],
   "source": [
    "df = df.drop(columns=['Date'])"
   ]
  },
  {
   "cell_type": "code",
   "execution_count": 6,
   "id": "c60ef4f4",
   "metadata": {},
   "outputs": [
    {
     "data": {
      "text/plain": [
       "0      2016-04-01 00:00:00\n",
       "1      2016-04-02 00:00:00\n",
       "2      2016-04-03 00:00:00\n",
       "3      2016-04-04 00:00:00\n",
       "4      2016-04-05 00:00:00\n",
       "              ...         \n",
       "205    2016-04-26 00:00:00\n",
       "206    2016-04-27 00:00:00\n",
       "207    2016-04-28 00:00:00\n",
       "208    2016-04-29 00:00:00\n",
       "209    2016-04-30 00:00:00\n",
       "Name: Day, Length: 210, dtype: object"
      ]
     },
     "execution_count": 6,
     "metadata": {},
     "output_type": "execute_result"
    }
   ],
   "source": [
    "df['Day']"
   ]
  },
  {
   "cell_type": "code",
   "execution_count": 7,
   "id": "ba49a49a",
   "metadata": {},
   "outputs": [],
   "source": [
    "df['Day'] = pd.to_datetime(df['Day'])"
   ]
  },
  {
   "cell_type": "code",
   "execution_count": 9,
   "id": "a8cec3f3",
   "metadata": {},
   "outputs": [],
   "source": [
    "import datetime\n",
    "\n",
    "def get_week(date):\n",
    "    day_of_week = date.strftime('%A')\n",
    "    if day_of_week == \"Saturday\" or day_of_week == \"Sunday\":\n",
    "        return 0\n",
    "    else:\n",
    "        return 1\n"
   ]
  },
  {
   "cell_type": "code",
   "execution_count": 11,
   "id": "efc84b81",
   "metadata": {},
   "outputs": [],
   "source": [
    "df['weekday'] = df['Day'].apply(get_week)"
   ]
  },
  {
   "cell_type": "code",
   "execution_count": 25,
   "id": "de48c50a",
   "metadata": {},
   "outputs": [],
   "source": [
    "df['weekday'] = df['weekday'].map({0: 'Weekend', 1: 'Weekday'})"
   ]
  },
  {
   "cell_type": "code",
   "execution_count": 13,
   "id": "fcd77e25",
   "metadata": {},
   "outputs": [
    {
     "name": "stdout",
     "output_type": "stream",
     "text": [
      "No columns have NaN values.\n"
     ]
    }
   ],
   "source": [
    "nan_columns = df.columns[df.isna().any()].tolist()\n",
    "\n",
    "if len(nan_columns) > 0:\n",
    "    print(\"Columns with NaN values:\")\n",
    "    for col in nan_columns:\n",
    "        print(col)\n",
    "else:\n",
    "    print(\"No columns have NaN values.\")\n"
   ]
  },
  {
   "cell_type": "code",
   "execution_count": 15,
   "id": "36ac3643",
   "metadata": {},
   "outputs": [
    {
     "name": "stdout",
     "output_type": "stream",
     "text": [
      "Rows with duplicated values:\n",
      "180\n"
     ]
    }
   ],
   "source": [
    "duplicates = df['Day'].duplicated()\n",
    "\n",
    "duplicated_rows = df[duplicates]\n",
    "print(\"Rows with duplicated values:\")\n",
    "print(len(duplicated_rows))"
   ]
  },
  {
   "cell_type": "code",
   "execution_count": 16,
   "id": "d7e4460a",
   "metadata": {},
   "outputs": [],
   "source": [
    "df = df.drop_duplicates(subset='Day', keep='first')"
   ]
  },
  {
   "cell_type": "code",
   "execution_count": 17,
   "id": "2985ff75",
   "metadata": {
    "collapsed": true
   },
   "outputs": [
    {
     "data": {
      "text/html": [
       "<div>\n",
       "<style scoped>\n",
       "    .dataframe tbody tr th:only-of-type {\n",
       "        vertical-align: middle;\n",
       "    }\n",
       "\n",
       "    .dataframe tbody tr th {\n",
       "        vertical-align: top;\n",
       "    }\n",
       "\n",
       "    .dataframe thead th {\n",
       "        text-align: right;\n",
       "    }\n",
       "</style>\n",
       "<table border=\"1\" class=\"dataframe\">\n",
       "  <thead>\n",
       "    <tr style=\"text-align: right;\">\n",
       "      <th></th>\n",
       "      <th>Day</th>\n",
       "      <th>High Temp (°F)</th>\n",
       "      <th>Low Temp (°F)</th>\n",
       "      <th>Precipitation</th>\n",
       "      <th>Brooklyn Bridge</th>\n",
       "      <th>Manhattan Bridge</th>\n",
       "      <th>Williamsburg Bridge</th>\n",
       "      <th>Queensboro Bridge</th>\n",
       "      <th>Total</th>\n",
       "      <th>weekday</th>\n",
       "      <th>month</th>\n",
       "    </tr>\n",
       "  </thead>\n",
       "  <tbody>\n",
       "    <tr>\n",
       "      <th>0</th>\n",
       "      <td>2016-04-01</td>\n",
       "      <td>78.1</td>\n",
       "      <td>66.0</td>\n",
       "      <td>0.01</td>\n",
       "      <td>1704.0</td>\n",
       "      <td>3126</td>\n",
       "      <td>4115.0</td>\n",
       "      <td>2552.0</td>\n",
       "      <td>11497</td>\n",
       "      <td>1</td>\n",
       "      <td>April</td>\n",
       "    </tr>\n",
       "    <tr>\n",
       "      <th>1</th>\n",
       "      <td>2016-04-02</td>\n",
       "      <td>55.0</td>\n",
       "      <td>48.9</td>\n",
       "      <td>0.15</td>\n",
       "      <td>827.0</td>\n",
       "      <td>1646</td>\n",
       "      <td>2565.0</td>\n",
       "      <td>1884.0</td>\n",
       "      <td>6922</td>\n",
       "      <td>0</td>\n",
       "      <td>April</td>\n",
       "    </tr>\n",
       "    <tr>\n",
       "      <th>2</th>\n",
       "      <td>2016-04-03</td>\n",
       "      <td>39.9</td>\n",
       "      <td>34.0</td>\n",
       "      <td>0.09</td>\n",
       "      <td>526.0</td>\n",
       "      <td>1232</td>\n",
       "      <td>1695.0</td>\n",
       "      <td>1306.0</td>\n",
       "      <td>4759</td>\n",
       "      <td>0</td>\n",
       "      <td>April</td>\n",
       "    </tr>\n",
       "    <tr>\n",
       "      <th>3</th>\n",
       "      <td>2016-04-04</td>\n",
       "      <td>44.1</td>\n",
       "      <td>33.1</td>\n",
       "      <td>0.47 (S)</td>\n",
       "      <td>521.0</td>\n",
       "      <td>1067</td>\n",
       "      <td>1440.0</td>\n",
       "      <td>1307.0</td>\n",
       "      <td>4335</td>\n",
       "      <td>1</td>\n",
       "      <td>April</td>\n",
       "    </tr>\n",
       "    <tr>\n",
       "      <th>4</th>\n",
       "      <td>2016-04-05</td>\n",
       "      <td>42.1</td>\n",
       "      <td>26.1</td>\n",
       "      <td>0</td>\n",
       "      <td>1416.0</td>\n",
       "      <td>2617</td>\n",
       "      <td>3081.0</td>\n",
       "      <td>2357.0</td>\n",
       "      <td>9471</td>\n",
       "      <td>1</td>\n",
       "      <td>April</td>\n",
       "    </tr>\n",
       "  </tbody>\n",
       "</table>\n",
       "</div>"
      ],
      "text/plain": [
       "         Day  High Temp (°F)  Low Temp (°F) Precipitation  Brooklyn Bridge  \\\n",
       "0 2016-04-01            78.1           66.0          0.01           1704.0   \n",
       "1 2016-04-02            55.0           48.9          0.15            827.0   \n",
       "2 2016-04-03            39.9           34.0          0.09            526.0   \n",
       "3 2016-04-04            44.1           33.1      0.47 (S)            521.0   \n",
       "4 2016-04-05            42.1           26.1             0           1416.0   \n",
       "\n",
       "   Manhattan Bridge  Williamsburg Bridge  Queensboro Bridge  Total  weekday  \\\n",
       "0              3126               4115.0             2552.0  11497        1   \n",
       "1              1646               2565.0             1884.0   6922        0   \n",
       "2              1232               1695.0             1306.0   4759        0   \n",
       "3              1067               1440.0             1307.0   4335        1   \n",
       "4              2617               3081.0             2357.0   9471        1   \n",
       "\n",
       "   month  \n",
       "0  April  \n",
       "1  April  \n",
       "2  April  \n",
       "3  April  \n",
       "4  April  "
      ]
     },
     "execution_count": 17,
     "metadata": {},
     "output_type": "execute_result"
    }
   ],
   "source": [
    "df.head()"
   ]
  },
  {
   "cell_type": "code",
   "execution_count": 18,
   "id": "d3b1f0b9",
   "metadata": {},
   "outputs": [],
   "source": [
    "df = df.rename(columns={\n",
    "    'High Temp (°F)': 'high_temp',\n",
    "    'Low Temp (°F)': 'low_temp',\n",
    "    \"Brooklyn Bridge\":\"Brooklyn_Bridge\",\n",
    "    \"Manhattan Bridge\":\"Manhattan_Bridge\",\n",
    "    \"Williamsburg Bridge\":\"Williamsburg_Bridge\",\n",
    "    \"Queensboro Bridge\":\"Queensboro_Bridge\",\n",
    "})"
   ]
  },
  {
   "cell_type": "code",
   "execution_count": 27,
   "id": "1f17c103",
   "metadata": {},
   "outputs": [],
   "source": [
    "df['mean_temp'] = (df['high_temp'] + df['low_temp'] ) / 2"
   ]
  },
  {
   "cell_type": "code",
   "execution_count": 20,
   "id": "044ea356",
   "metadata": {},
   "outputs": [],
   "source": [
    "df['Precipitation'] = df['Precipitation'].replace(\"0.47 (S)\",\"0.47\")"
   ]
  },
  {
   "cell_type": "code",
   "execution_count": 21,
   "id": "8f0c130f",
   "metadata": {},
   "outputs": [],
   "source": [
    "df['Precipitation'] = df['Precipitation'].replace(\"T\",\"0\")"
   ]
  },
  {
   "cell_type": "code",
   "execution_count": 22,
   "id": "5f2a0841",
   "metadata": {},
   "outputs": [],
   "source": [
    "df['Precipitation'] = df['Precipitation'].astype(float)"
   ]
  },
  {
   "cell_type": "markdown",
   "id": "eebc518b",
   "metadata": {},
   "source": [
    "## Ruajme Databasen e Re"
   ]
  },
  {
   "cell_type": "code",
   "execution_count": 29,
   "id": "a11fa640",
   "metadata": {},
   "outputs": [],
   "source": [
    "df.to_csv(\"clean.csv\")"
   ]
  },
  {
   "cell_type": "markdown",
   "id": "3628509e",
   "metadata": {},
   "source": [
    "# Statistike Deskriptive"
   ]
  },
  {
   "cell_type": "code",
   "execution_count": 24,
   "id": "235cc76a",
   "metadata": {},
   "outputs": [],
   "source": [
    "import seaborn as sns\n",
    "import matplotlib.pyplot as plt"
   ]
  },
  {
   "cell_type": "code",
   "execution_count": 26,
   "id": "20b936f4",
   "metadata": {},
   "outputs": [
    {
     "data": {
      "image/png": "[encoded data removed]",
      "text/plain": [
       "<Figure size 800x600 with 1 Axes>"
      ]
     },
     "metadata": {},
     "output_type": "display_data"
    }
   ],
   "source": [
    "plt.figure(figsize=(8, 6))\n",
    "sns.barplot(x='weekday', y='Total', data=df)\n",
    "plt.title('Total bycicles for Weekday/Weekend')\n",
    "plt.xlabel('Weekday')\n",
    "plt.ylabel('Total')\n",
    "plt.show()"
   ]
  },
  {
   "cell_type": "code",
   "execution_count": 38,
   "id": "44f8590d",
   "metadata": {},
   "outputs": [
    {
     "data": {
      "text/html": [
       "<div>\n",
       "<style scoped>\n",
       "    .dataframe tbody tr th:only-of-type {\n",
       "        vertical-align: middle;\n",
       "    }\n",
       "\n",
       "    .dataframe tbody tr th {\n",
       "        vertical-align: top;\n",
       "    }\n",
       "\n",
       "    .dataframe thead th {\n",
       "        text-align: right;\n",
       "    }\n",
       "</style>\n",
       "<table border=\"1\" class=\"dataframe\">\n",
       "  <thead>\n",
       "    <tr style=\"text-align: right;\">\n",
       "      <th></th>\n",
       "      <th>Day</th>\n",
       "      <th>high_temp</th>\n",
       "      <th>low_temp</th>\n",
       "      <th>Precipitation</th>\n",
       "      <th>Brooklyn_Bridge</th>\n",
       "      <th>Manhattan_Bridge</th>\n",
       "      <th>Williamsburg_Bridge</th>\n",
       "      <th>Queensboro_Bridge</th>\n",
       "      <th>Total</th>\n",
       "      <th>weekday</th>\n",
       "      <th>mean_temp</th>\n",
       "    </tr>\n",
       "  </thead>\n",
       "  <tbody>\n",
       "    <tr>\n",
       "      <th>0</th>\n",
       "      <td>2016-04-01</td>\n",
       "      <td>78.1</td>\n",
       "      <td>66.0</td>\n",
       "      <td>0.01</td>\n",
       "      <td>1704.0</td>\n",
       "      <td>3126</td>\n",
       "      <td>4115.0</td>\n",
       "      <td>2552.0</td>\n",
       "      <td>11497</td>\n",
       "      <td>Weekday</td>\n",
       "      <td>72.05</td>\n",
       "    </tr>\n",
       "    <tr>\n",
       "      <th>1</th>\n",
       "      <td>2016-04-02</td>\n",
       "      <td>55.0</td>\n",
       "      <td>48.9</td>\n",
       "      <td>0.15</td>\n",
       "      <td>827.0</td>\n",
       "      <td>1646</td>\n",
       "      <td>2565.0</td>\n",
       "      <td>1884.0</td>\n",
       "      <td>6922</td>\n",
       "      <td>Weekend</td>\n",
       "      <td>51.95</td>\n",
       "    </tr>\n",
       "    <tr>\n",
       "      <th>2</th>\n",
       "      <td>2016-04-03</td>\n",
       "      <td>39.9</td>\n",
       "      <td>34.0</td>\n",
       "      <td>0.09</td>\n",
       "      <td>526.0</td>\n",
       "      <td>1232</td>\n",
       "      <td>1695.0</td>\n",
       "      <td>1306.0</td>\n",
       "      <td>4759</td>\n",
       "      <td>Weekend</td>\n",
       "      <td>36.95</td>\n",
       "    </tr>\n",
       "    <tr>\n",
       "      <th>3</th>\n",
       "      <td>2016-04-04</td>\n",
       "      <td>44.1</td>\n",
       "      <td>33.1</td>\n",
       "      <td>0.47</td>\n",
       "      <td>521.0</td>\n",
       "      <td>1067</td>\n",
       "      <td>1440.0</td>\n",
       "      <td>1307.0</td>\n",
       "      <td>4335</td>\n",
       "      <td>Weekday</td>\n",
       "      <td>38.60</td>\n",
       "    </tr>\n",
       "    <tr>\n",
       "      <th>4</th>\n",
       "      <td>2016-04-05</td>\n",
       "      <td>42.1</td>\n",
       "      <td>26.1</td>\n",
       "      <td>0.00</td>\n",
       "      <td>1416.0</td>\n",
       "      <td>2617</td>\n",
       "      <td>3081.0</td>\n",
       "      <td>2357.0</td>\n",
       "      <td>9471</td>\n",
       "      <td>Weekday</td>\n",
       "      <td>34.10</td>\n",
       "    </tr>\n",
       "  </tbody>\n",
       "</table>\n",
       "</div>"
      ],
      "text/plain": [
       "         Day  high_temp  low_temp  Precipitation  Brooklyn_Bridge  \\\n",
       "0 2016-04-01       78.1      66.0           0.01           1704.0   \n",
       "1 2016-04-02       55.0      48.9           0.15            827.0   \n",
       "2 2016-04-03       39.9      34.0           0.09            526.0   \n",
       "3 2016-04-04       44.1      33.1           0.47            521.0   \n",
       "4 2016-04-05       42.1      26.1           0.00           1416.0   \n",
       "\n",
       "   Manhattan_Bridge  Williamsburg_Bridge  Queensboro_Bridge  Total  weekday  \\\n",
       "0              3126               4115.0             2552.0  11497  Weekday   \n",
       "1              1646               2565.0             1884.0   6922  Weekend   \n",
       "2              1232               1695.0             1306.0   4759  Weekend   \n",
       "3              1067               1440.0             1307.0   4335  Weekday   \n",
       "4              2617               3081.0             2357.0   9471  Weekday   \n",
       "\n",
       "   mean_temp  \n",
       "0      72.05  \n",
       "1      51.95  \n",
       "2      36.95  \n",
       "3      38.60  \n",
       "4      34.10  "
      ]
     },
     "execution_count": 38,
     "metadata": {},
     "output_type": "execute_result"
    }
   ],
   "source": [
    "df.head()"
   ]
  },
  {
   "cell_type": "markdown",
   "id": "6ac116d4",
   "metadata": {},
   "source": [
    "Gjejme mesatarisht sa bicikleta ne total kane udhetuar gjate gjithe muajit prill ne kater urat(kolona totali).\n"
   ]
  },
  {
   "cell_type": "code",
   "execution_count": 39,
   "id": "15885a4a",
   "metadata": {},
   "outputs": [
    {
     "name": "stdout",
     "output_type": "stream",
     "text": [
      "Mean of the ninth column: 14534.5\n",
      "Max of the ninth column: 23318\n",
      "Min of the ninth column: 4335\n",
      "Median of the ninth column: 15292.5\n",
      "Max of the ninth column: 14534.5\n"
     ]
    }
   ],
   "source": [
    "mean_ninth_column = df.iloc[:, 8].mean()\n",
    "print(\"Mean of the ninth column:\", mean_ninth_column)\n",
    "max_ninth_column = df.iloc[:, 8].max()\n",
    "print(\"Max of the ninth column:\", max_ninth_column)\n",
    "min_ninth_column = df.iloc[:, 8].min()\n",
    "print(\"Min of the ninth column:\", min_ninth_column)\n",
    "median_ninth_column = df.iloc[:, 8].median()\n",
    "print(\"Median of the ninth column:\", median_ninth_column)\n",
    "max_ninth_column = df.iloc[:, 8].max()\n",
    "print(\"Max of the ninth column:\", mean_ninth_column)"
   ]
  },
  {
   "cell_type": "code",
   "execution_count": 43,
   "id": "7dd69c2b",
   "metadata": {},
   "outputs": [
    {
     "data": {
      "image/png": "[encoded data removed]",
      "text/plain": [
       "<Figure size 800x600 with 1 Axes>"
      ]
     },
     "metadata": {},
     "output_type": "display_data"
    }
   ],
   "source": [
    "plt.figure(figsize=(8, 6))\n",
    "sns.scatterplot(x='mean_temp', y='Total', data=df)\n",
    "plt.xlabel('Temperature')\n",
    "plt.ylabel('Total')\n",
    "plt.title('Relationship between Total and Temperature')\n",
    "plt.show()"
   ]
  },
  {
   "cell_type": "code",
   "execution_count": 117,
   "id": "c0ba333a",
   "metadata": {},
   "outputs": [
    {
     "data": {
      "image/png": "[encoded data removed]",
      "text/plain": [
       "<Figure size 800x600 with 1 Axes>"
      ]
     },
     "metadata": {},
     "output_type": "display_data"
    }
   ],
   "source": [
    "plt.figure(figsize=(8, 6))\n",
    "sns.scatterplot(x='Precipitation', y='Total', data=df)\n",
    "plt.xlabel('Precipitation')\n",
    "plt.ylabel('Total')\n",
    "plt.title('Relationship between Total and Precipitation')\n",
    "plt.show()"
   ]
  },
  {
   "cell_type": "markdown",
   "id": "2c51ef9a",
   "metadata": {},
   "source": [
    "## Machine Learning"
   ]
  },
  {
   "cell_type": "code",
   "execution_count": 49,
   "id": "06758b1c",
   "metadata": {},
   "outputs": [
    {
     "data": {
      "text/html": [
       "<div>\n",
       "<style scoped>\n",
       "    .dataframe tbody tr th:only-of-type {\n",
       "        vertical-align: middle;\n",
       "    }\n",
       "\n",
       "    .dataframe tbody tr th {\n",
       "        vertical-align: top;\n",
       "    }\n",
       "\n",
       "    .dataframe thead th {\n",
       "        text-align: right;\n",
       "    }\n",
       "</style>\n",
       "<table border=\"1\" class=\"dataframe\">\n",
       "  <thead>\n",
       "    <tr style=\"text-align: right;\">\n",
       "      <th></th>\n",
       "      <th>Day</th>\n",
       "      <th>high_temp</th>\n",
       "      <th>low_temp</th>\n",
       "      <th>Precipitation</th>\n",
       "      <th>Brooklyn_Bridge</th>\n",
       "      <th>Manhattan_Bridge</th>\n",
       "      <th>Williamsburg_Bridge</th>\n",
       "      <th>Queensboro_Bridge</th>\n",
       "      <th>Total</th>\n",
       "      <th>weekday</th>\n",
       "      <th>mean_temp</th>\n",
       "    </tr>\n",
       "  </thead>\n",
       "  <tbody>\n",
       "    <tr>\n",
       "      <th>0</th>\n",
       "      <td>2016-04-01</td>\n",
       "      <td>78.1</td>\n",
       "      <td>66.0</td>\n",
       "      <td>0.01</td>\n",
       "      <td>1704.0</td>\n",
       "      <td>3126</td>\n",
       "      <td>4115.0</td>\n",
       "      <td>2552.0</td>\n",
       "      <td>11497</td>\n",
       "      <td>Weekday</td>\n",
       "      <td>72.05</td>\n",
       "    </tr>\n",
       "    <tr>\n",
       "      <th>1</th>\n",
       "      <td>2016-04-02</td>\n",
       "      <td>55.0</td>\n",
       "      <td>48.9</td>\n",
       "      <td>0.15</td>\n",
       "      <td>827.0</td>\n",
       "      <td>1646</td>\n",
       "      <td>2565.0</td>\n",
       "      <td>1884.0</td>\n",
       "      <td>6922</td>\n",
       "      <td>Weekend</td>\n",
       "      <td>51.95</td>\n",
       "    </tr>\n",
       "    <tr>\n",
       "      <th>2</th>\n",
       "      <td>2016-04-03</td>\n",
       "      <td>39.9</td>\n",
       "      <td>34.0</td>\n",
       "      <td>0.09</td>\n",
       "      <td>526.0</td>\n",
       "      <td>1232</td>\n",
       "      <td>1695.0</td>\n",
       "      <td>1306.0</td>\n",
       "      <td>4759</td>\n",
       "      <td>Weekend</td>\n",
       "      <td>36.95</td>\n",
       "    </tr>\n",
       "    <tr>\n",
       "      <th>3</th>\n",
       "      <td>2016-04-04</td>\n",
       "      <td>44.1</td>\n",
       "      <td>33.1</td>\n",
       "      <td>0.47</td>\n",
       "      <td>521.0</td>\n",
       "      <td>1067</td>\n",
       "      <td>1440.0</td>\n",
       "      <td>1307.0</td>\n",
       "      <td>4335</td>\n",
       "      <td>Weekday</td>\n",
       "      <td>38.60</td>\n",
       "    </tr>\n",
       "    <tr>\n",
       "      <th>4</th>\n",
       "      <td>2016-04-05</td>\n",
       "      <td>42.1</td>\n",
       "      <td>26.1</td>\n",
       "      <td>0.00</td>\n",
       "      <td>1416.0</td>\n",
       "      <td>2617</td>\n",
       "      <td>3081.0</td>\n",
       "      <td>2357.0</td>\n",
       "      <td>9471</td>\n",
       "      <td>Weekday</td>\n",
       "      <td>34.10</td>\n",
       "    </tr>\n",
       "  </tbody>\n",
       "</table>\n",
       "</div>"
      ],
      "text/plain": [
       "         Day  high_temp  low_temp  Precipitation  Brooklyn_Bridge  \\\n",
       "0 2016-04-01       78.1      66.0           0.01           1704.0   \n",
       "1 2016-04-02       55.0      48.9           0.15            827.0   \n",
       "2 2016-04-03       39.9      34.0           0.09            526.0   \n",
       "3 2016-04-04       44.1      33.1           0.47            521.0   \n",
       "4 2016-04-05       42.1      26.1           0.00           1416.0   \n",
       "\n",
       "   Manhattan_Bridge  Williamsburg_Bridge  Queensboro_Bridge  Total  weekday  \\\n",
       "0              3126               4115.0             2552.0  11497  Weekday   \n",
       "1              1646               2565.0             1884.0   6922  Weekend   \n",
       "2              1232               1695.0             1306.0   4759  Weekend   \n",
       "3              1067               1440.0             1307.0   4335  Weekday   \n",
       "4              2617               3081.0             2357.0   9471  Weekday   \n",
       "\n",
       "   mean_temp  \n",
       "0      72.05  \n",
       "1      51.95  \n",
       "2      36.95  \n",
       "3      38.60  \n",
       "4      34.10  "
      ]
     },
     "execution_count": 49,
     "metadata": {},
     "output_type": "execute_result"
    }
   ],
   "source": [
    "df.head()"
   ]
  },
  {
   "cell_type": "code",
   "execution_count": 50,
   "id": "60c0245c",
   "metadata": {},
   "outputs": [],
   "source": [
    "df = df.drop(columns=['Day','Brooklyn_Bridge','Manhattan_Bridge','Williamsburg_Bridge','Queensboro_Bridge'])"
   ]
  },
  {
   "cell_type": "code",
   "execution_count": 56,
   "id": "96637853",
   "metadata": {},
   "outputs": [],
   "source": [
    "df = df.drop(columns=['mean_temp'])"
   ]
  },
  {
   "cell_type": "code",
   "execution_count": 57,
   "id": "37927524",
   "metadata": {},
   "outputs": [
    {
     "data": {
      "text/html": [
       "<div>\n",
       "<style scoped>\n",
       "    .dataframe tbody tr th:only-of-type {\n",
       "        vertical-align: middle;\n",
       "    }\n",
       "\n",
       "    .dataframe tbody tr th {\n",
       "        vertical-align: top;\n",
       "    }\n",
       "\n",
       "    .dataframe thead th {\n",
       "        text-align: right;\n",
       "    }\n",
       "</style>\n",
       "<table border=\"1\" class=\"dataframe\">\n",
       "  <thead>\n",
       "    <tr style=\"text-align: right;\">\n",
       "      <th></th>\n",
       "      <th>high_temp</th>\n",
       "      <th>low_temp</th>\n",
       "      <th>Precipitation</th>\n",
       "      <th>Total</th>\n",
       "      <th>weekday</th>\n",
       "    </tr>\n",
       "  </thead>\n",
       "  <tbody>\n",
       "    <tr>\n",
       "      <th>0</th>\n",
       "      <td>78.1</td>\n",
       "      <td>66.0</td>\n",
       "      <td>0.01</td>\n",
       "      <td>11497</td>\n",
       "      <td>0</td>\n",
       "    </tr>\n",
       "    <tr>\n",
       "      <th>1</th>\n",
       "      <td>55.0</td>\n",
       "      <td>48.9</td>\n",
       "      <td>0.15</td>\n",
       "      <td>6922</td>\n",
       "      <td>1</td>\n",
       "    </tr>\n",
       "    <tr>\n",
       "      <th>2</th>\n",
       "      <td>39.9</td>\n",
       "      <td>34.0</td>\n",
       "      <td>0.09</td>\n",
       "      <td>4759</td>\n",
       "      <td>1</td>\n",
       "    </tr>\n",
       "    <tr>\n",
       "      <th>3</th>\n",
       "      <td>44.1</td>\n",
       "      <td>33.1</td>\n",
       "      <td>0.47</td>\n",
       "      <td>4335</td>\n",
       "      <td>0</td>\n",
       "    </tr>\n",
       "    <tr>\n",
       "      <th>4</th>\n",
       "      <td>42.1</td>\n",
       "      <td>26.1</td>\n",
       "      <td>0.00</td>\n",
       "      <td>9471</td>\n",
       "      <td>0</td>\n",
       "    </tr>\n",
       "  </tbody>\n",
       "</table>\n",
       "</div>"
      ],
      "text/plain": [
       "   high_temp  low_temp  Precipitation  Total  weekday\n",
       "0       78.1      66.0           0.01  11497        0\n",
       "1       55.0      48.9           0.15   6922        1\n",
       "2       39.9      34.0           0.09   4759        1\n",
       "3       44.1      33.1           0.47   4335        0\n",
       "4       42.1      26.1           0.00   9471        0"
      ]
     },
     "execution_count": 57,
     "metadata": {},
     "output_type": "execute_result"
    }
   ],
   "source": [
    "df.head()"
   ]
  },
  {
   "cell_type": "code",
   "execution_count": 52,
   "id": "2b2c467b",
   "metadata": {},
   "outputs": [],
   "source": [
    "df['weekday'] = df['weekday'].map({\"Weekday\":0,\"Weekend\":1})"
   ]
  },
  {
   "cell_type": "code",
   "execution_count": 54,
   "id": "d73df4ee",
   "metadata": {},
   "outputs": [
    {
     "data": {
      "text/html": [
       "<div>\n",
       "<style scoped>\n",
       "    .dataframe tbody tr th:only-of-type {\n",
       "        vertical-align: middle;\n",
       "    }\n",
       "\n",
       "    .dataframe tbody tr th {\n",
       "        vertical-align: top;\n",
       "    }\n",
       "\n",
       "    .dataframe thead th {\n",
       "        text-align: right;\n",
       "    }\n",
       "</style>\n",
       "<table border=\"1\" class=\"dataframe\">\n",
       "  <thead>\n",
       "    <tr style=\"text-align: right;\">\n",
       "      <th></th>\n",
       "      <th>high_temp</th>\n",
       "      <th>low_temp</th>\n",
       "      <th>Precipitation</th>\n",
       "      <th>Total</th>\n",
       "      <th>weekday</th>\n",
       "      <th>mean_temp</th>\n",
       "    </tr>\n",
       "  </thead>\n",
       "  <tbody>\n",
       "    <tr>\n",
       "      <th>high_temp</th>\n",
       "      <td>1.000000</td>\n",
       "      <td>0.823853</td>\n",
       "      <td>-0.345898</td>\n",
       "      <td>0.743344</td>\n",
       "      <td>-0.107708</td>\n",
       "      <td>0.962046</td>\n",
       "    </tr>\n",
       "    <tr>\n",
       "      <th>low_temp</th>\n",
       "      <td>0.823853</td>\n",
       "      <td>1.000000</td>\n",
       "      <td>-0.165441</td>\n",
       "      <td>0.492124</td>\n",
       "      <td>-0.137974</td>\n",
       "      <td>0.947259</td>\n",
       "    </tr>\n",
       "    <tr>\n",
       "      <th>Precipitation</th>\n",
       "      <td>-0.345898</td>\n",
       "      <td>-0.165441</td>\n",
       "      <td>1.000000</td>\n",
       "      <td>-0.591079</td>\n",
       "      <td>0.013562</td>\n",
       "      <td>-0.275223</td>\n",
       "    </tr>\n",
       "    <tr>\n",
       "      <th>Total</th>\n",
       "      <td>0.743344</td>\n",
       "      <td>0.492124</td>\n",
       "      <td>-0.591079</td>\n",
       "      <td>1.000000</td>\n",
       "      <td>-0.305580</td>\n",
       "      <td>0.657221</td>\n",
       "    </tr>\n",
       "    <tr>\n",
       "      <th>weekday</th>\n",
       "      <td>-0.107708</td>\n",
       "      <td>-0.137974</td>\n",
       "      <td>0.013562</td>\n",
       "      <td>-0.305580</td>\n",
       "      <td>1.000000</td>\n",
       "      <td>-0.127326</td>\n",
       "    </tr>\n",
       "    <tr>\n",
       "      <th>mean_temp</th>\n",
       "      <td>0.962046</td>\n",
       "      <td>0.947259</td>\n",
       "      <td>-0.275223</td>\n",
       "      <td>0.657221</td>\n",
       "      <td>-0.127326</td>\n",
       "      <td>1.000000</td>\n",
       "    </tr>\n",
       "  </tbody>\n",
       "</table>\n",
       "</div>"
      ],
      "text/plain": [
       "               high_temp  low_temp  Precipitation     Total   weekday  \\\n",
       "high_temp       1.000000  0.823853      -0.345898  0.743344 -0.107708   \n",
       "low_temp        0.823853  1.000000      -0.165441  0.492124 -0.137974   \n",
       "Precipitation  -0.345898 -0.165441       1.000000 -0.591079  0.013562   \n",
       "Total           0.743344  0.492124      -0.591079  1.000000 -0.305580   \n",
       "weekday        -0.107708 -0.137974       0.013562 -0.305580  1.000000   \n",
       "mean_temp       0.962046  0.947259      -0.275223  0.657221 -0.127326   \n",
       "\n",
       "               mean_temp  \n",
       "high_temp       0.962046  \n",
       "low_temp        0.947259  \n",
       "Precipitation  -0.275223  \n",
       "Total           0.657221  \n",
       "weekday        -0.127326  \n",
       "mean_temp       1.000000  "
      ]
     },
     "execution_count": 54,
     "metadata": {},
     "output_type": "execute_result"
    }
   ],
   "source": [
    "df.corr()"
   ]
  },
  {
   "cell_type": "code",
   "execution_count": 58,
   "id": "ecae6feb",
   "metadata": {},
   "outputs": [
    {
     "data": {
      "image/png": "[encoded data removed]",
      "text/plain": [
       "<Figure size 800x600 with 2 Axes>"
      ]
     },
     "metadata": {},
     "output_type": "display_data"
    }
   ],
   "source": [
    "correlation_matrix = df.corr()\n",
    "\n",
    "# Create a heatmap to visualize the correlation matrix\n",
    "plt.figure(figsize=(8, 6))\n",
    "sns.heatmap(correlation_matrix, annot=True, cmap='coolwarm', fmt='.2f')\n",
    "plt.title('Correlation Heatmap')\n",
    "plt.show()"
   ]
  },
  {
   "cell_type": "markdown",
   "id": "6a9a0eea",
   "metadata": {},
   "source": [
    "## Test/Train Split"
   ]
  },
  {
   "cell_type": "code",
   "execution_count": 102,
   "id": "f9d963eb",
   "metadata": {},
   "outputs": [],
   "source": [
    "X = df[['high_temp','low_temp','Precipitation','weekday']]"
   ]
  },
  {
   "cell_type": "code",
   "execution_count": 103,
   "id": "841c43e2",
   "metadata": {},
   "outputs": [],
   "source": [
    "y = df['Total']"
   ]
  },
  {
   "cell_type": "code",
   "execution_count": 104,
   "id": "cc4f9348",
   "metadata": {},
   "outputs": [],
   "source": [
    "from sklearn.model_selection import train_test_split"
   ]
  },
  {
   "cell_type": "code",
   "execution_count": 167,
   "id": "4c536b11",
   "metadata": {},
   "outputs": [],
   "source": [
    "X_train, X_test, y_train, y_test = train_test_split(X, y, test_size=0.1)"
   ]
  },
  {
   "cell_type": "markdown",
   "id": "40ab1e85",
   "metadata": {},
   "source": [
    "## Krijimi i modelit"
   ]
  },
  {
   "cell_type": "code",
   "execution_count": 168,
   "id": "e6a9813b",
   "metadata": {},
   "outputs": [],
   "source": [
    "from sklearn.linear_model import LinearRegression"
   ]
  },
  {
   "cell_type": "code",
   "execution_count": 169,
   "id": "4de78494",
   "metadata": {},
   "outputs": [],
   "source": [
    "lm = LinearRegression()"
   ]
  },
  {
   "cell_type": "code",
   "execution_count": 170,
   "id": "93e7192d",
   "metadata": {},
   "outputs": [
    {
     "data": {
      "text/plain": [
       "LinearRegression()"
      ]
     },
     "execution_count": 170,
     "metadata": {},
     "output_type": "execute_result"
    }
   ],
   "source": [
    "lm.fit(X_train,y_train)"
   ]
  },
  {
   "cell_type": "code",
   "execution_count": 171,
   "id": "89a14b7b",
   "metadata": {},
   "outputs": [],
   "source": [
    "predictions = lm.predict(X_test)"
   ]
  },
  {
   "cell_type": "markdown",
   "id": "8eb252bf",
   "metadata": {},
   "source": [
    "## Saktesia"
   ]
  },
  {
   "cell_type": "code",
   "execution_count": 172,
   "id": "e0d99612",
   "metadata": {},
   "outputs": [],
   "source": [
    "from sklearn import metrics"
   ]
  },
  {
   "cell_type": "code",
   "execution_count": 173,
   "id": "2b7f990f",
   "metadata": {},
   "outputs": [
    {
     "name": "stdout",
     "output_type": "stream",
     "text": [
      "MAE: 1690.1830618117237\n",
      "MSE: 2908417.0331281032\n",
      "RMSE: 1705.408172001091\n"
     ]
    }
   ],
   "source": [
    "print('MAE:', metrics.mean_absolute_error(y_test, predictions))\n",
    "print('MSE:', metrics.mean_squared_error(y_test, predictions))\n",
    "print('RMSE:', np.sqrt(metrics.mean_squared_error(y_test, predictions)))"
   ]
  },
  {
   "cell_type": "code",
   "execution_count": 174,
   "id": "c87ca5cd",
   "metadata": {},
   "outputs": [
    {
     "data": {
      "text/plain": [
       "array([10761.76487885,  5937.63848419, 11344.32441991])"
      ]
     },
     "execution_count": 174,
     "metadata": {},
     "output_type": "execute_result"
    }
   ],
   "source": [
    "predictions"
   ]
  },
  {
   "cell_type": "code",
   "execution_count": 175,
   "id": "3778d739",
   "metadata": {
    "scrolled": true
   },
   "outputs": [],
   "source": [
    "from sklearn.metrics import r2_score, mean_absolute_error, mean_squared_error,mean_absolute_percentage_error"
   ]
  },
  {
   "cell_type": "code",
   "execution_count": 176,
   "id": "095044dd",
   "metadata": {},
   "outputs": [
    {
     "data": {
      "text/plain": [
       "0.8130729289233469"
      ]
     },
     "execution_count": 176,
     "metadata": {},
     "output_type": "execute_result"
    }
   ],
   "source": [
    "r2_score(y_test,predictions )"
   ]
  },
  {
   "cell_type": "code",
   "execution_count": 177,
   "id": "013898cd",
   "metadata": {},
   "outputs": [
    {
     "data": {
      "text/plain": [
       "-1059.3577291730799"
      ]
     },
     "execution_count": 177,
     "metadata": {},
     "output_type": "execute_result"
    }
   ],
   "source": [
    "lm.intercept_"
   ]
  },
  {
   "cell_type": "code",
   "execution_count": 178,
   "id": "e8583b16",
   "metadata": {},
   "outputs": [
    {
     "data": {
      "text/plain": [
       "array([   419.24626929,   -173.40943102, -19417.15133323,  -2710.83231013])"
      ]
     },
     "execution_count": 178,
     "metadata": {},
     "output_type": "execute_result"
    }
   ],
   "source": [
    "lm.coef_"
   ]
  },
  {
   "cell_type": "markdown",
   "id": "a1a43893",
   "metadata": {},
   "source": [
    "DecisionTreeRegressor"
   ]
  },
  {
   "cell_type": "code",
   "execution_count": 181,
   "id": "981eb24a",
   "metadata": {},
   "outputs": [],
   "source": [
    "from sklearn.tree import DecisionTreeRegressor"
   ]
  },
  {
   "cell_type": "code",
   "execution_count": 184,
   "id": "8d0f00b6",
   "metadata": {},
   "outputs": [],
   "source": [
    "model = DecisionTreeRegressor()"
   ]
  },
  {
   "cell_type": "code",
   "execution_count": 197,
   "id": "5fa63319",
   "metadata": {},
   "outputs": [
    {
     "data": {
      "text/html": [
       "<div>\n",
       "<style scoped>\n",
       "    .dataframe tbody tr th:only-of-type {\n",
       "        vertical-align: middle;\n",
       "    }\n",
       "\n",
       "    .dataframe tbody tr th {\n",
       "        vertical-align: top;\n",
       "    }\n",
       "\n",
       "    .dataframe thead th {\n",
       "        text-align: right;\n",
       "    }\n",
       "</style>\n",
       "<table border=\"1\" class=\"dataframe\">\n",
       "  <thead>\n",
       "    <tr style=\"text-align: right;\">\n",
       "      <th></th>\n",
       "      <th>high_temp</th>\n",
       "      <th>low_temp</th>\n",
       "      <th>Precipitation</th>\n",
       "      <th>weekday</th>\n",
       "    </tr>\n",
       "  </thead>\n",
       "  <tbody>\n",
       "    <tr>\n",
       "      <th>23</th>\n",
       "      <td>68.0</td>\n",
       "      <td>48.0</td>\n",
       "      <td>0.0</td>\n",
       "      <td>1</td>\n",
       "    </tr>\n",
       "    <tr>\n",
       "      <th>29</th>\n",
       "      <td>64.0</td>\n",
       "      <td>48.0</td>\n",
       "      <td>0.0</td>\n",
       "      <td>1</td>\n",
       "    </tr>\n",
       "    <tr>\n",
       "      <th>14</th>\n",
       "      <td>64.0</td>\n",
       "      <td>44.1</td>\n",
       "      <td>0.0</td>\n",
       "      <td>0</td>\n",
       "    </tr>\n",
       "    <tr>\n",
       "      <th>11</th>\n",
       "      <td>57.0</td>\n",
       "      <td>45.0</td>\n",
       "      <td>0.2</td>\n",
       "      <td>0</td>\n",
       "    </tr>\n",
       "    <tr>\n",
       "      <th>15</th>\n",
       "      <td>66.0</td>\n",
       "      <td>45.0</td>\n",
       "      <td>0.0</td>\n",
       "      <td>1</td>\n",
       "    </tr>\n",
       "  </tbody>\n",
       "</table>\n",
       "</div>"
      ],
      "text/plain": [
       "    high_temp  low_temp  Precipitation  weekday\n",
       "23       68.0      48.0            0.0        1\n",
       "29       64.0      48.0            0.0        1\n",
       "14       64.0      44.1            0.0        0\n",
       "11       57.0      45.0            0.2        0\n",
       "15       66.0      45.0            0.0        1"
      ]
     },
     "execution_count": 197,
     "metadata": {},
     "output_type": "execute_result"
    }
   ],
   "source": [
    "X_train.head()"
   ]
  },
  {
   "cell_type": "code",
   "execution_count": 188,
   "id": "be6bdba5",
   "metadata": {},
   "outputs": [
    {
     "data": {
      "text/plain": [
       "DecisionTreeRegressor()"
      ]
     },
     "execution_count": 188,
     "metadata": {},
     "output_type": "execute_result"
    }
   ],
   "source": [
    "model.fit(X_train,y_train)"
   ]
  },
  {
   "cell_type": "code",
   "execution_count": 189,
   "id": "9218a627",
   "metadata": {},
   "outputs": [],
   "source": [
    "y_train_pred=model.predict(X_train)\n",
    "y_test_pred=model.predict(X_test)"
   ]
  },
  {
   "cell_type": "code",
   "execution_count": 190,
   "id": "c817dbdf",
   "metadata": {},
   "outputs": [
    {
     "name": "stdout",
     "output_type": "stream",
     "text": [
      "R2 per train eshte : 1.0\n",
      "0.980293054935439\n"
     ]
    }
   ],
   "source": [
    "print(\"R2 per train eshte :\" ,r2_score(y_train,y_train_pred))\n",
    "print(r2_score(y_test,y_test_pred))\n",
    "\n"
   ]
  },
  {
   "cell_type": "code",
   "execution_count": 191,
   "id": "8fae2902",
   "metadata": {},
   "outputs": [
    {
     "name": "stdout",
     "output_type": "stream",
     "text": [
      "Mae per test data eshte: 498.33\n",
      "Mae per train data eshte: 0.0\n"
     ]
    }
   ],
   "source": [
    "print('Mae per test data eshte:',mean_absolute_error(y_test,y_test_pred).round(2))\n",
    "print('Mae per train data eshte:',mean_absolute_error(y_train,y_train_pred).round(2))"
   ]
  },
  {
   "cell_type": "code",
   "execution_count": 192,
   "id": "5cabd26e",
   "metadata": {},
   "outputs": [
    {
     "name": "stdout",
     "output_type": "stream",
     "text": [
      "MSE per test data eshte: 306622.33\n",
      "MSE per train data eshte: 0.0\n"
     ]
    }
   ],
   "source": [
    "print('MSE per test data eshte:',mean_squared_error(y_test,y_test_pred).round(2))\n",
    "print('MSE per train data eshte:',mean_squared_error(y_train,y_train_pred).round(2))"
   ]
  },
  {
   "cell_type": "markdown",
   "id": "6a320c6a",
   "metadata": {},
   "source": [
    "Overfitting"
   ]
  },
  {
   "cell_type": "code",
   "execution_count": 193,
   "id": "35cd5b07",
   "metadata": {},
   "outputs": [],
   "source": [
    "model2=DecisionTreeRegressor(min_samples_split=8, max_depth=4)"
   ]
  },
  {
   "cell_type": "code",
   "execution_count": 194,
   "id": "6e210bab",
   "metadata": {},
   "outputs": [
    {
     "data": {
      "text/plain": [
       "DecisionTreeRegressor(max_depth=4, min_samples_split=8)"
      ]
     },
     "execution_count": 194,
     "metadata": {},
     "output_type": "execute_result"
    }
   ],
   "source": [
    "model2.fit(X_train,y_train)"
   ]
  },
  {
   "cell_type": "code",
   "execution_count": 195,
   "id": "9639ab74",
   "metadata": {},
   "outputs": [],
   "source": [
    "y_train=model2.predict(X_train)\n",
    "y_test=model2.predict(X_test)"
   ]
  },
  {
   "cell_type": "code",
   "execution_count": 196,
   "id": "fccaebfb",
   "metadata": {},
   "outputs": [
    {
     "name": "stdout",
     "output_type": "stream",
     "text": [
      "Metrics:\n",
      "R2 per train data eshte : 0.8387158448974652\n",
      "R2 per test data eshte : 0.7889117510854476\n",
      "Mae per test data eshte: 1172.4\n",
      "Mae per train data eshte: 1560.7\n",
      "MSE per test data eshte: 1703355.87\n",
      "MSE per train data eshte: 4184063.53\n"
     ]
    }
   ],
   "source": [
    "print('Metrics:')\n",
    "print(\"R2 per train data eshte :\" ,r2_score(y_train,y_train_pred))\n",
    "print(\"R2 per test data eshte :\",r2_score(y_test,y_test_pred))\n",
    "print('Mae per test data eshte:',mean_absolute_error(y_test,y_test_pred).round(2))\n",
    "print('Mae per train data eshte:',mean_absolute_error(y_train,y_train_pred).round(2))\n",
    "print('MSE per test data eshte:',mean_squared_error(y_test,y_test_pred).round(2))\n",
    "print('MSE per train data eshte:',mean_squared_error(y_train,y_train_pred).round(2))"
   ]
  },
  {
   "cell_type": "code",
   "execution_count": null,
   "id": "cecb6cb3",
   "metadata": {},
   "outputs": [],
   "source": []
  },
  {
   "cell_type": "code",
   "execution_count": null,
   "id": "9382dec1",
   "metadata": {},
   "outputs": [],
   "source": []
  },
  {
   "cell_type": "code",
   "execution_count": null,
   "id": "2d649a97",
   "metadata": {},
   "outputs": [],
   "source": []
  },
  {
   "cell_type": "code",
   "execution_count": null,
   "id": "d3be42ae",
   "metadata": {},
   "outputs": [],
   "source": []
  },
  {
   "cell_type": "code",
   "execution_count": null,
   "id": "057a89a6",
   "metadata": {},
   "outputs": [],
   "source": []
  }
 ],
 "metadata": {
  "kernelspec": {
   "display_name": "Python 3 (ipykernel)",
   "language": "python",
   "name": "python3"
  },
  "language_info": {
   "codemirror_mode": {
    "name": "ipython",
    "version": 3
   },
   "file_extension": ".py",
   "mimetype": "text/x-python",
   "name": "python",
   "nbconvert_exporter": "python",
   "pygments_lexer": "ipython3",
   "version": "3.11.4"
  }
 },
 "nbformat": 4,
 "nbformat_minor": 5
}
